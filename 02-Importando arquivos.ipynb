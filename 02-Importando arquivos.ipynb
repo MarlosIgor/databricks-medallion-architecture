{
 "cells": [
  {
   "cell_type": "markdown",
   "metadata": {
    "application/vnd.databricks.v1+cell": {
     "cellMetadata": {
      "byteLimit": 2048000,
      "rowLimit": 10000
     },
     "inputWidgets": {},
     "nuid": "76f74ba6-f9ac-481d-bc38-697d5fe590c0",
     "showTitle": false,
     "tableResultSettingsMap": {},
     "title": ""
    }
   },
   "source": [
    "### Importar arquivos para DBFS Landingzone\n",
    "\n",
    "Para baixar um arquivo do GitHub e salvá-lo no Databricks, você pode seguir os passos abaixo:\n"
   ]
  },
  {
   "cell_type": "code",
   "execution_count": 0,
   "metadata": {
    "application/vnd.databricks.v1+cell": {
     "cellMetadata": {
      "byteLimit": 2048000,
      "rowLimit": 10000
     },
     "inputWidgets": {},
     "nuid": "91f04f85-1f1f-4204-b1f6-9180ed13cb6d",
     "showTitle": false,
     "tableResultSettingsMap": {},
     "title": ""
    }
   },
   "outputs": [
    {
     "name": "stdout",
     "output_type": "stream",
     "text": [
      "Arquivo baixado e salvo em: /mnt/lhdw/landingzone/vendas/processar/dados_2011.csv\n"
     ]
    }
   ],
   "source": [
    "import urllib.request\n",
    "\n",
    "# Lista de URLs dos arquivos no GitHub\n",
    "urls = [\n",
    "    'https://github.com/andrerosa77/trn-pyspark/raw/main/dados_2011.csv',\n",
    "    'https://github.com/andrerosa77/trn-pyspark/raw/main/dados_2012.csv'\n",
    "]\n",
    "\n",
    "# Diretório temporário na instância do cluster\n",
    "temp_dir = '/tmp/'\n",
    "\n",
    "# Caminho de destino no DBFS\n",
    "dbfs_dir = '/mnt/lhdw/landingzone/vendas/processar/'\n",
    "\n",
    "# Iterar sobre as URLs para baixar e mover cada arquivo\n",
    "for url in urls:\n",
    "    # Extrair o nome do arquivo da URL\n",
    "    file_name = url.split('/')[-1]\n",
    "    \n",
    "    # Caminho temporário local\n",
    "    temp_path = f'{temp_dir}{file_name}'\n",
    "    \n",
    "    # Caminho de destino no DBFS\n",
    "    dbfs_path = f'{dbfs_dir}{file_name}'\n",
    "    \n",
    "    # Baixar o arquivo para o caminho temporário\n",
    "    urllib.request.urlretrieve(url, temp_path)\n",
    "    print(f\"Arquivo baixado: {file_name}\")\n",
    "    \n",
    "    # Mover o arquivo para o DBFS\n",
    "    dbutils.fs.cp(f'file:{temp_path}', f'dbfs:{dbfs_path}')\n",
    "    print(f\"Arquivo movido para: {dbfs_path}\")\n",
    "\n",
    "print(\"Todos os arquivos foram baixados e salvos com sucesso!\")"
   ]
  },
  {
   "cell_type": "markdown",
   "metadata": {
    "application/vnd.databricks.v1+cell": {
     "cellMetadata": {
      "byteLimit": 2048000,
      "rowLimit": 10000
     },
     "inputWidgets": {},
     "nuid": "cf3fc368-a113-40be-8cc6-e924808a77fe",
     "showTitle": false,
     "tableResultSettingsMap": {},
     "title": ""
    }
   },
   "source": [
    "## Evidência do Arquivo criado"
   ]
  },
  {
   "cell_type": "code",
   "execution_count": 0,
   "metadata": {
    "application/vnd.databricks.v1+cell": {
     "cellMetadata": {
      "byteLimit": 2048000,
      "rowLimit": 10000
     },
     "inputWidgets": {},
     "nuid": "f5054c26-dbc4-4a1e-8d69-51321f1594ea",
     "showTitle": false,
     "tableResultSettingsMap": {},
     "title": ""
    }
   },
   "outputs": [
    {
     "name": "stdout",
     "output_type": "stream",
     "text": [
      "Out[4]: [FileInfo(path='dbfs:/mnt/lhdw/landingzone/vendas/processar/dados_2011.csv', name='dados_2011.csv', size=21493733, modificationTime=1741958462000)]"
     ]
    }
   ],
   "source": [
    "dbutils.fs.ls(\"/mnt/lhdw/landingzone/vendas/processar/\")"
   ]
  },
  {
   "cell_type": "code",
   "execution_count": 0,
   "metadata": {
    "application/vnd.databricks.v1+cell": {
     "cellMetadata": {
      "byteLimit": 2048000,
      "rowLimit": 10000
     },
     "inputWidgets": {},
     "nuid": "95138e9b-e49d-42e3-ae63-1cb28528cf5e",
     "showTitle": false,
     "tableResultSettingsMap": {},
     "title": ""
    }
   },
   "outputs": [
    {
     "data": {
      "text/html": [
       "<style scoped>\n",
       "  .table-result-container {\n",
       "    max-height: 300px;\n",
       "    overflow: auto;\n",
       "  }\n",
       "  table, th, td {\n",
       "    border: 1px solid black;\n",
       "    border-collapse: collapse;\n",
       "  }\n",
       "  th, td {\n",
       "    padding: 5px;\n",
       "  }\n",
       "  th {\n",
       "    text-align: left;\n",
       "  }\n",
       "</style><div class='table-result-container'><table class='table-result'><thead style='background-color: white'><tr><th>path</th><th>name</th><th>size</th><th>modificationTime</th></tr></thead><tbody><tr><td>dbfs:/mnt/lhdw/landingzone/vendas/processar/dados_2011.csv</td><td>dados_2011.csv</td><td>21493733</td><td>1741958462000</td></tr></tbody></table></div>"
      ]
     },
     "metadata": {
      "application/vnd.databricks.v1+output": {
       "addedWidgets": {},
       "aggData": [],
       "aggError": "",
       "aggOverflow": false,
       "aggSchema": [],
       "aggSeriesLimitReached": false,
       "aggType": "",
       "arguments": {},
       "columnCustomDisplayInfos": {},
       "data": [
        [
         "dbfs:/mnt/lhdw/landingzone/vendas/processar/dados_2011.csv",
         "dados_2011.csv",
         21493733,
         1741958462000
        ]
       ],
       "datasetInfos": [],
       "dbfsResultPath": null,
       "isJsonSchema": true,
       "metadata": {
        "isDbfsCommandResult": false
       },
       "overflow": false,
       "plotOptions": {
        "customPlotOptions": {},
        "displayType": "table",
        "pivotAggregation": null,
        "pivotColumns": null,
        "xColumns": null,
        "yColumns": null
       },
       "removedWidgets": [],
       "schema": [
        {
         "metadata": "{}",
         "name": "path",
         "type": "\"string\""
        },
        {
         "metadata": "{}",
         "name": "name",
         "type": "\"string\""
        },
        {
         "metadata": "{}",
         "name": "size",
         "type": "\"long\""
        },
        {
         "metadata": "{}",
         "name": "modificationTime",
         "type": "\"long\""
        }
       ],
       "type": "table"
      }
     },
     "output_type": "display_data"
    }
   ],
   "source": [
    "%fs ls \"/mnt/lhdw/landingzone/vendas/processar/\""
   ]
  }
 ],
 "metadata": {
  "application/vnd.databricks.v1+notebook": {
   "computePreferences": null,
   "dashboards": [],
   "environmentMetadata": null,
   "language": "python",
   "notebookMetadata": {
    "mostRecentlyExecutedCommandWithImplicitDF": {
     "commandId": 3224391381809002,
     "dataframes": [
      "_sqldf"
     ]
    },
    "pythonIndentUnit": 4
   },
   "notebookName": "001 Importando arquivos 2011",
   "widgets": {}
  },
  "language_info": {
   "name": "python"
  }
 },
 "nbformat": 4,
 "nbformat_minor": 0
}
