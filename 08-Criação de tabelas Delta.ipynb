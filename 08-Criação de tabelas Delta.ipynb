{
 "cells": [
  {
   "cell_type": "markdown",
   "metadata": {
    "application/vnd.databricks.v1+cell": {
     "cellMetadata": {},
     "inputWidgets": {},
     "nuid": "2197cb02-e3a7-4f47-8d73-6f8c173743ce",
     "showTitle": false,
     "tableResultSettingsMap": {},
     "title": ""
    }
   },
   "source": [
    "### Criando Banco de dados (lhdw_vendas)"
   ]
  },
  {
   "cell_type": "code",
   "execution_count": 0,
   "metadata": {
    "application/vnd.databricks.v1+cell": {
     "cellMetadata": {
      "byteLimit": 2048000,
      "rowLimit": 10000
     },
     "inputWidgets": {},
     "nuid": "69201c60-bbf1-41e9-b157-dc88b534f562",
     "showTitle": false,
     "tableResultSettingsMap": {},
     "title": ""
    }
   },
   "outputs": [
    {
     "name": "stdout",
     "output_type": "stream",
     "text": [
      "Out[1]: DataFrame[]"
     ]
    }
   ],
   "source": [
    "# Criar o banco de dados\n",
    "spark.sql(\"CREATE DATABASE IF NOT EXISTS lhdw_vendas\")\n",
    "\n",
    "# Usar o banco de dados\n",
    "spark.sql(\"USE lhdw_vendas\")"
   ]
  },
  {
   "cell_type": "markdown",
   "metadata": {
    "application/vnd.databricks.v1+cell": {
     "cellMetadata": {},
     "inputWidgets": {},
     "nuid": "10be06aa-fb1f-454b-8c74-649725c08be9",
     "showTitle": false,
     "tableResultSettingsMap": {},
     "title": ""
    }
   },
   "source": [
    "**Criação do Banco de Dados**\n",
    "- CREATE DATABASE IF NOT EXISTS: Esse comando cria um banco de dados no Spark SQL chamado lhdw_vendas, se ele ainda não existir.\n",
    "  - O uso da cláusula IF NOT EXISTS evita erros no caso de o banco de dados já existir, garantindo que o comando não falhe repetidamente.\n",
    "- Esse banco de dados pode ser usado para armazenar tabelas e outros objetos como views, que podem ser acessados em consultas SQL subsequentes.\n",
    "\n",
    "**Definição do Contexto do Banco de Dados**\n",
    "- **USE lhdw_vendas**: Esse comando define o banco de dados lhdw_vendas como o contexto atual para as operações SQL subsequentes. Isso significa que todas as tabelas ou consultas SQL subsequentes serão executadas dentro desse banco de dados, a menos que um banco de dados diferente seja especificado.\n",
    "- É útil quando se quer garantir que qualquer tabela criada ou manipulada nas próximas operações seja associada ao banco de dados correto.\n",
    "\n",
    "**Resumo**: O código cria um banco de dados chamado lhdw_vendas (se ele não existir) e, em seguida, define este banco como o banco de dados atual para que as operações SQL subsequentes sejam executadas nele."
   ]
  },
  {
   "cell_type": "markdown",
   "metadata": {
    "application/vnd.databricks.v1+cell": {
     "cellMetadata": {},
     "inputWidgets": {},
     "nuid": "2ec41ed8-e166-405e-b5ae-0484c586c8c2",
     "showTitle": false,
     "tableResultSettingsMap": {},
     "title": ""
    }
   },
   "source": [
    "#### Criando tabelas Delta"
   ]
  },
  {
   "cell_type": "code",
   "execution_count": 0,
   "metadata": {
    "application/vnd.databricks.v1+cell": {
     "cellMetadata": {
      "byteLimit": 2048000,
      "rowLimit": 10000
     },
     "inputWidgets": {},
     "nuid": "edb03a6a-f180-4b59-a6fc-f57ff95d1fe4",
     "showTitle": false,
     "tableResultSettingsMap": {},
     "title": ""
    }
   },
   "outputs": [
    {
     "name": "stdout",
     "output_type": "stream",
     "text": [
      "+-----------+-----------+-----------+\n",
      "|   database|  tableName|isTemporary|\n",
      "+-----------+-----------+-----------+\n",
      "|lhdw_vendas|dim_produto|      false|\n",
      "+-----------+-----------+-----------+\n",
      "\n"
     ]
    }
   ],
   "source": [
    "delta_table_path = \"dbfs:/mnt/lhdw/gold/vendas_delta/dim_produto\"\n",
    "\n",
    "# Registre a tabela Delta no catálogo do Spark\n",
    "spark.sql(f\"\"\"\n",
    "    CREATE TABLE IF NOT EXISTS lhdw_vendas.dim_produto\n",
    "    USING DELTA\n",
    "    LOCATION '{delta_table_path}'\n",
    "\"\"\")\n",
    "\n",
    "# Verifique se a tabela foi criada\n",
    "spark.sql(\"SHOW TABLES\").show()"
   ]
  },
  {
   "cell_type": "markdown",
   "metadata": {
    "application/vnd.databricks.v1+cell": {
     "cellMetadata": {},
     "inputWidgets": {},
     "nuid": "ee156e24-bf63-4579-871f-afc990a19b19",
     "showTitle": false,
     "tableResultSettingsMap": {},
     "title": ""
    }
   },
   "source": [
    "**Definindo o Caminho da Tabela Delta**\n",
    "- Aqui você define o caminho onde a tabela Delta será armazenada. No caso, o caminho aponta para o diretório dim_produto dentro da camada Gold.\n",
    "\n",
    "**Criando a Tabela no Spark SQL**\n",
    "- **CREATE TABLE IF NOT EXISTS**: Esse comando cria uma tabela chamada dim_produto no banco de dados lhdw_vendas, caso ela ainda não exista.\n",
    "  - USING DELTA: Define o formato da tabela como Delta, que é um formato de armazenamento transacional no Spark com suporte a operações ACID.\n",
    "  - LOCATION: Especifica o caminho onde os dados da tabela serão armazenados, neste caso, o caminho que você definiu em delta_table_path.\n",
    "\n",
    "**Exibindo as Tabelas Existentes**\n",
    "- **SHOW TABLES**: Esse comando lista todas as tabelas existentes no banco de dados atual (lhdw_vendas).\n",
    "- .show(): Exibe o resultado da consulta no console, mostrando o nome e outras informações das tabelas que existem no banco de dados."
   ]
  },
  {
   "cell_type": "code",
   "execution_count": 0,
   "metadata": {
    "application/vnd.databricks.v1+cell": {
     "cellMetadata": {
      "byteLimit": 2048000,
      "rowLimit": 10000
     },
     "inputWidgets": {},
     "nuid": "509787ca-a43e-4728-9f94-7653848f5c1f",
     "showTitle": false,
     "tableResultSettingsMap": {},
     "title": ""
    }
   },
   "outputs": [
    {
     "name": "stdout",
     "output_type": "stream",
     "text": [
      "+-----------+--------------+-----------+\n",
      "|   database|     tableName|isTemporary|\n",
      "+-----------+--------------+-----------+\n",
      "|lhdw_vendas| dim_categoria|      false|\n",
      "|lhdw_vendas|   dim_cliente|      false|\n",
      "|lhdw_vendas|dim_fabricante|      false|\n",
      "|lhdw_vendas| dim_geografia|      false|\n",
      "|lhdw_vendas|   dim_produto|      false|\n",
      "|lhdw_vendas|  dim_segmento|      false|\n",
      "|lhdw_vendas|   fato_vendas|      false|\n",
      "+-----------+--------------+-----------+\n",
      "\n"
     ]
    }
   ],
   "source": [
    "delta_table_path = \"dbfs:/mnt/lhdw/gold/vendas_delta/dim_categoria\"\n",
    "# Registre a tabela Delta no catálogo do Spark\n",
    "spark.sql(f\"\"\"\n",
    "    CREATE TABLE IF NOT EXISTS lhdw_vendas.dim_categoria\n",
    "    USING DELTA\n",
    "    LOCATION '{delta_table_path}'\n",
    "\"\"\")\n",
    "\n",
    "# Verifique se a tabela foi criada\n",
    "spark.sql(\"SHOW TABLES\").show()"
   ]
  },
  {
   "cell_type": "code",
   "execution_count": 0,
   "metadata": {
    "application/vnd.databricks.v1+cell": {
     "cellMetadata": {
      "byteLimit": 2048000,
      "rowLimit": 10000
     },
     "inputWidgets": {},
     "nuid": "ee1c363c-2569-4475-ba3d-03b08f0a07e5",
     "showTitle": false,
     "tableResultSettingsMap": {},
     "title": ""
    }
   },
   "outputs": [
    {
     "name": "stdout",
     "output_type": "stream",
     "text": [
      "+-----------+-------------+-----------+\n",
      "|   database|    tableName|isTemporary|\n",
      "+-----------+-------------+-----------+\n",
      "|lhdw_vendas|dim_categoria|      false|\n",
      "|lhdw_vendas|  dim_produto|      false|\n",
      "|lhdw_vendas| dim_segmento|      false|\n",
      "+-----------+-------------+-----------+\n",
      "\n"
     ]
    }
   ],
   "source": [
    "delta_table_path = \"dbfs:/mnt/lhdw/gold/vendas_delta/dim_segmento\"\n",
    "# Registre a tabela Delta no catálogo do Spark\n",
    "spark.sql(f\"\"\"\n",
    "    CREATE TABLE IF NOT EXISTS lhdw_vendas.dim_segmento\n",
    "    USING DELTA\n",
    "    LOCATION '{delta_table_path}'\n",
    "\"\"\")\n",
    "\n",
    "# Verifique se a tabela foi criada\n",
    "spark.sql(\"SHOW TABLES\").show()"
   ]
  },
  {
   "cell_type": "code",
   "execution_count": 0,
   "metadata": {
    "application/vnd.databricks.v1+cell": {
     "cellMetadata": {
      "byteLimit": 2048000,
      "rowLimit": 10000
     },
     "inputWidgets": {},
     "nuid": "25b501f1-09f9-4780-9363-6ecea4e4464c",
     "showTitle": false,
     "tableResultSettingsMap": {},
     "title": ""
    }
   },
   "outputs": [
    {
     "name": "stdout",
     "output_type": "stream",
     "text": [
      "+-----------+--------------+-----------+\n",
      "|   database|     tableName|isTemporary|\n",
      "+-----------+--------------+-----------+\n",
      "|lhdw_vendas| dim_categoria|      false|\n",
      "|lhdw_vendas|dim_fabricante|      false|\n",
      "|lhdw_vendas|   dim_produto|      false|\n",
      "|lhdw_vendas|  dim_segmento|      false|\n",
      "+-----------+--------------+-----------+\n",
      "\n"
     ]
    }
   ],
   "source": [
    "delta_table_path = \"dbfs:/mnt/lhdw/gold/vendas_delta/dim_fabricante\"\n",
    "# Registre a tabela Delta no catálogo do Spark\n",
    "spark.sql(f\"\"\"\n",
    "    CREATE TABLE IF NOT EXISTS lhdw_vendas.dim_fabricante\n",
    "    USING DELTA\n",
    "    LOCATION '{delta_table_path}'\n",
    "\"\"\")\n",
    "\n",
    "# Verifique se a tabela foi criada\n",
    "spark.sql(\"SHOW TABLES\").show()"
   ]
  },
  {
   "cell_type": "code",
   "execution_count": 0,
   "metadata": {
    "application/vnd.databricks.v1+cell": {
     "cellMetadata": {
      "byteLimit": 2048000,
      "rowLimit": 10000
     },
     "inputWidgets": {},
     "nuid": "6a5ed532-8fc6-47ee-8042-b7f951b11a62",
     "showTitle": false,
     "tableResultSettingsMap": {},
     "title": ""
    }
   },
   "outputs": [
    {
     "name": "stdout",
     "output_type": "stream",
     "text": [
      "+-----------+--------------+-----------+\n",
      "|   database|     tableName|isTemporary|\n",
      "+-----------+--------------+-----------+\n",
      "|lhdw_vendas| dim_categoria|      false|\n",
      "|lhdw_vendas|dim_fabricante|      false|\n",
      "|lhdw_vendas| dim_geografia|      false|\n",
      "|lhdw_vendas|   dim_produto|      false|\n",
      "|lhdw_vendas|  dim_segmento|      false|\n",
      "+-----------+--------------+-----------+\n",
      "\n"
     ]
    }
   ],
   "source": [
    "delta_table_path = \"dbfs:/mnt/lhdw/gold/vendas_delta/dim_geografia\"\n",
    "# Registre a tabela Delta no catálogo do Spark\n",
    "spark.sql(f\"\"\"\n",
    "    CREATE TABLE IF NOT EXISTS lhdw_vendas.dim_geografia\n",
    "    USING DELTA\n",
    "    LOCATION '{delta_table_path}'\n",
    "\"\"\")\n",
    "\n",
    "# Verifique se a tabela foi criada\n",
    "spark.sql(\"SHOW TABLES\").show()"
   ]
  },
  {
   "cell_type": "code",
   "execution_count": 0,
   "metadata": {
    "application/vnd.databricks.v1+cell": {
     "cellMetadata": {
      "byteLimit": 2048000,
      "rowLimit": 10000
     },
     "inputWidgets": {},
     "nuid": "c576c445-a7b6-433a-ae4c-2f73baa01803",
     "showTitle": false,
     "tableResultSettingsMap": {},
     "title": ""
    }
   },
   "outputs": [
    {
     "name": "stdout",
     "output_type": "stream",
     "text": [
      "+-----------+--------------+-----------+\n",
      "|   database|     tableName|isTemporary|\n",
      "+-----------+--------------+-----------+\n",
      "|lhdw_vendas| dim_categoria|      false|\n",
      "|lhdw_vendas|   dim_cliente|      false|\n",
      "|lhdw_vendas|dim_fabricante|      false|\n",
      "|lhdw_vendas| dim_geografia|      false|\n",
      "|lhdw_vendas|   dim_produto|      false|\n",
      "|lhdw_vendas|  dim_segmento|      false|\n",
      "+-----------+--------------+-----------+\n",
      "\n"
     ]
    }
   ],
   "source": [
    "delta_table_path = \"dbfs:/mnt/lhdw/gold/vendas_delta/dim_cliente\"\n",
    "# Registre a tabela Delta no catálogo do Spark\n",
    "spark.sql(f\"\"\"\n",
    "    CREATE TABLE IF NOT EXISTS lhdw_vendas.dim_cliente\n",
    "    USING DELTA\n",
    "    LOCATION '{delta_table_path}'\n",
    "\"\"\")\n",
    "\n",
    "# Verifique se a tabela foi criada\n",
    "spark.sql(\"SHOW TABLES\").show()"
   ]
  },
  {
   "cell_type": "code",
   "execution_count": 0,
   "metadata": {
    "application/vnd.databricks.v1+cell": {
     "cellMetadata": {
      "byteLimit": 2048000,
      "rowLimit": 10000
     },
     "inputWidgets": {},
     "nuid": "84f32ed3-e82b-4126-b528-51caa9202fe2",
     "showTitle": false,
     "tableResultSettingsMap": {},
     "title": ""
    }
   },
   "outputs": [
    {
     "name": "stdout",
     "output_type": "stream",
     "text": [
      "+-----------+--------------+-----------+\n",
      "|   database|     tableName|isTemporary|\n",
      "+-----------+--------------+-----------+\n",
      "|lhdw_vendas| dim_categoria|      false|\n",
      "|lhdw_vendas|   dim_cliente|      false|\n",
      "|lhdw_vendas|dim_fabricante|      false|\n",
      "|lhdw_vendas| dim_geografia|      false|\n",
      "|lhdw_vendas|   dim_produto|      false|\n",
      "|lhdw_vendas|  dim_segmento|      false|\n",
      "|lhdw_vendas|   fato_vendas|      false|\n",
      "+-----------+--------------+-----------+\n",
      "\n"
     ]
    }
   ],
   "source": [
    "delta_table_path = \"dbfs:/mnt/lhdw/gold/vendas_delta/fato_vendas\"\n",
    "# Registre a tabela Delta no catálogo do Spark\n",
    "spark.sql(f\"\"\"\n",
    "    CREATE TABLE IF NOT EXISTS lhdw_vendas.fato_vendas\n",
    "    USING DELTA\n",
    "    LOCATION '{delta_table_path}'\n",
    "\"\"\")\n",
    "\n",
    "# Verifique se a tabela foi criada\n",
    "spark.sql(\"SHOW TABLES\").show()"
   ]
  },
  {
   "cell_type": "code",
   "execution_count": 0,
   "metadata": {
    "application/vnd.databricks.v1+cell": {
     "cellMetadata": {
      "byteLimit": 2048000,
      "rowLimit": 10000
     },
     "inputWidgets": {},
     "nuid": "1c03a4e9-fb16-4804-9008-57eecb2e09b1",
     "showTitle": false,
     "tableResultSettingsMap": {},
     "title": ""
    }
   },
   "outputs": [
    {
     "name": "stdout",
     "output_type": "stream",
     "text": [
      "Out[10]: 266"
     ]
    }
   ],
   "source": [
    "import gc\n",
    "spark.catalog.clearCache()\n",
    "# Coletar lixo após operações pesadas para liberar memória\n",
    "gc.collect()"
   ]
  }
 ],
 "metadata": {
  "application/vnd.databricks.v1+notebook": {
   "computePreferences": null,
   "dashboards": [],
   "environmentMetadata": null,
   "language": "python",
   "notebookMetadata": {
    "pythonIndentUnit": 4
   },
   "notebookName": "007 Criação de tabelas Delta",
   "widgets": {}
  },
  "language_info": {
   "name": "python"
  }
 },
 "nbformat": 4,
 "nbformat_minor": 0
}
